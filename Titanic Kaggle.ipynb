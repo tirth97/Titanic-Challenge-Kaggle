{
 "cells": [
  {
   "cell_type": "code",
   "execution_count": 1,
   "metadata": {},
   "outputs": [],
   "source": [
    "import string\n",
    "import numpy as np\n",
    "import csv\n",
    "import pandas as pd\n"
   ]
  },
  {
   "cell_type": "code",
   "execution_count": null,
   "metadata": {},
   "outputs": [],
   "source": []
  },
  {
   "cell_type": "code",
   "execution_count": 2,
   "metadata": {},
   "outputs": [],
   "source": [
    "def substrings_in_string(big_string, substrings):\n",
    "    for substring in substrings:\n",
    "        if substring in big_string:\n",
    "            return substring\n",
    "    #print(substring)\n",
    "    return np.nan"
   ]
  },
  {
   "cell_type": "code",
   "execution_count": null,
   "metadata": {},
   "outputs": [],
   "source": []
  },
  {
   "cell_type": "code",
   "execution_count": 3,
   "metadata": {},
   "outputs": [],
   "source": [
    "def get_data_from_file(file_location):\n",
    "    file_content=[]\n",
    "\n",
    "    with open(file_location) as csvfile:\n",
    "        file = csv.reader(csvfile)\n",
    "        for eachline in file:\n",
    "            file_content.append(eachline)\n",
    "    \n",
    "    df=pd.DataFrame(file_content)\n",
    "    new_header = df.iloc[0]\n",
    "    df = df[1:]\n",
    "    df.columns = new_header\n",
    "    return df"
   ]
  },
  {
   "cell_type": "code",
   "execution_count": 4,
   "metadata": {},
   "outputs": [],
   "source": [
    " #Data Engineering\n",
    "\n",
    "def process_train_data(df):\n",
    "    \n",
    "    ##Cherbourg 1\n",
    "    ##Queenstown 2\n",
    "    ##Southampton 3\n",
    "\n",
    "    df['Embarked'] = df['Embarked'].replace(to_replace = \"C\",value = 1)\n",
    "    df['Embarked'] = df['Embarked'].replace(to_replace = \"Q\",value = 2)\n",
    "    df['Embarked'] = df['Embarked'].replace(to_replace = \"S\",value = 3)\n",
    "    \n",
    "    \n",
    "    df['Fare'] = pd.to_numeric(df['Fare'])\n",
    "    df['Age'] = pd.to_numeric(df['Age'])\n",
    "    \n",
    "    df['FamilySize'] = pd.to_numeric(df['SibSp'])+pd.to_numeric(df['Parch'])\n",
    "    \n",
    "    cabin_list = ['A', 'B', 'C', 'D', 'E', 'F', 'T', 'G', 'Unknown']\n",
    "    df['Deck']=df['Cabin'].map(lambda x: substrings_in_string(x, cabin_list))\n",
    "    \n",
    "    df = df.replace(to_replace = np.NaN, value=0)\n",
    "    df = df.replace(to_replace = '',value = 0)\n",
    "    df = df.replace(to_replace = \"male\", value = 1)\n",
    "    df = df.replace(to_replace = \"female\",value = 2)\n",
    "    \n",
    "    new_df = df[['PassengerId','Pclass','Sex','Age','Embarked','Fare','FamilySize','Survived']]\n",
    "    \n",
    "    return new_df"
   ]
  },
  {
   "cell_type": "code",
   "execution_count": 5,
   "metadata": {},
   "outputs": [],
   "source": [
    " #Data Engineering\n",
    "\n",
    "def process_test_data(df):\n",
    "    \n",
    "    ##Cherbourg 1\n",
    "    ##Queenstown 2\n",
    "    ##Southampton 3\n",
    "\n",
    "    df['Embarked'] = df['Embarked'].replace(to_replace = \"C\",value = 1)\n",
    "    df['Embarked'] = df['Embarked'].replace(to_replace = \"Q\",value = 2)\n",
    "    df['Embarked'] = df['Embarked'].replace(to_replace = \"S\",value = 3)\n",
    "    \n",
    "    \n",
    "    df['Fare'] = pd.to_numeric(df['Fare'])\n",
    "    df['Age'] = pd.to_numeric(df['Age'])\n",
    "    \n",
    "    df['FamilySize'] = pd.to_numeric(df['SibSp'])+pd.to_numeric(df['Parch'])\n",
    "    \n",
    "    cabin_list = ['A', 'B', 'C', 'D', 'E', 'F', 'T', 'G', 'Unknown']\n",
    "    df['Deck']=df['Cabin'].map(lambda x: substrings_in_string(x, cabin_list))\n",
    "    \n",
    "    df = df.replace(to_replace = np.NaN, value=0)\n",
    "    df = df.replace(to_replace = '',value = 0)\n",
    "    df = df.replace(to_replace = \"male\", value = 1)\n",
    "    df = df.replace(to_replace = \"female\",value = 2)\n",
    "    \n",
    "    new_df = df[['PassengerId','Pclass','Sex','Age','Embarked','Fare','FamilySize']]\n",
    "    \n",
    "    return new_df"
   ]
  },
  {
   "cell_type": "code",
   "execution_count": null,
   "metadata": {},
   "outputs": [],
   "source": []
  },
  {
   "cell_type": "code",
   "execution_count": 6,
   "metadata": {},
   "outputs": [],
   "source": [
    "new_df = get_data_from_file('./train.csv')\n",
    "new_df = process_train_data(new_df)"
   ]
  },
  {
   "cell_type": "code",
   "execution_count": 7,
   "metadata": {},
   "outputs": [],
   "source": [
    "data = new_df[['PassengerId','Pclass','Sex','Age','Embarked','Fare','FamilySize']]"
   ]
  },
  {
   "cell_type": "code",
   "execution_count": 8,
   "metadata": {},
   "outputs": [],
   "source": [
    "prediction = new_df[['Survived']]"
   ]
  },
  {
   "cell_type": "code",
   "execution_count": null,
   "metadata": {},
   "outputs": [],
   "source": []
  },
  {
   "cell_type": "code",
   "execution_count": 9,
   "metadata": {},
   "outputs": [],
   "source": [
    "from sklearn import svm\n",
    "\n",
    "clf = svm.SVC(kernel='linear',C=0.01)"
   ]
  },
  {
   "cell_type": "code",
   "execution_count": 10,
   "metadata": {},
   "outputs": [
    {
     "name": "stderr",
     "output_type": "stream",
     "text": [
      "C:\\Users\\Crest\\Anaconda3\\lib\\site-packages\\sklearn\\utils\\validation.py:578: DataConversionWarning: A column-vector y was passed when a 1d array was expected. Please change the shape of y to (n_samples, ), for example using ravel().\n",
      "  y = column_or_1d(y, warn=True)\n"
     ]
    },
    {
     "data": {
      "text/plain": [
       "SVC(C=0.01, cache_size=200, class_weight=None, coef0=0.0,\n",
       "  decision_function_shape='ovr', degree=3, gamma='auto', kernel='linear',\n",
       "  max_iter=-1, probability=False, random_state=None, shrinking=True,\n",
       "  tol=0.001, verbose=False)"
      ]
     },
     "execution_count": 10,
     "metadata": {},
     "output_type": "execute_result"
    }
   ],
   "source": [
    "clf.fit(data,prediction)"
   ]
  },
  {
   "cell_type": "code",
   "execution_count": null,
   "metadata": {},
   "outputs": [],
   "source": []
  },
  {
   "cell_type": "code",
   "execution_count": 13,
   "metadata": {},
   "outputs": [
    {
     "name": "stderr",
     "output_type": "stream",
     "text": [
      "C:\\Users\\Crest\\Anaconda3\\lib\\site-packages\\sklearn\\utils\\validation.py:578: DataConversionWarning: A column-vector y was passed when a 1d array was expected. Please change the shape of y to (n_samples, ), for example using ravel().\n",
      "  y = column_or_1d(y, warn=True)\n"
     ]
    },
    {
     "name": "stdout",
     "output_type": "stream",
     "text": [
      "0.8379888268156425\n"
     ]
    }
   ],
   "source": [
    "\n",
    "def train_data_test(data):\n",
    "    data_train = data[0:int(0.8*len(data))]\n",
    "    prediction_train = prediction[0:int(0.8*len(data))]\n",
    "    data_test = data[int(0.8*len(data)):]\n",
    "    prediction_test = prediction[int(0.8*len(data)):]\n",
    "    \n",
    "    from sklearn import svm\n",
    "\n",
    "    clf = svm.SVC(kernel='linear',C=0.01)\n",
    "    clf.fit(data_train,prediction_train)\n",
    "    \n",
    "    pred_sur = clf.predict(data_test)\n",
    "    \n",
    "    from sklearn.metrics import accuracy_score\n",
    "\n",
    "    print(accuracy_score(pred_sur,prediction_test))\n",
    "    \n",
    "\n",
    "train_data_test(data)"
   ]
  },
  {
   "cell_type": "code",
   "execution_count": null,
   "metadata": {},
   "outputs": [],
   "source": []
  },
  {
   "cell_type": "code",
   "execution_count": null,
   "metadata": {},
   "outputs": [],
   "source": []
  },
  {
   "cell_type": "code",
   "execution_count": 15,
   "metadata": {},
   "outputs": [],
   "source": [
    "original_test_data = get_data_from_file('./test.csv')\n",
    "original_test_data = process_test_data(original_test_data)"
   ]
  },
  {
   "cell_type": "code",
   "execution_count": 16,
   "metadata": {},
   "outputs": [],
   "source": [
    "prediction_test_data = clf.predict(original_test_data)"
   ]
  },
  {
   "cell_type": "code",
   "execution_count": 17,
   "metadata": {},
   "outputs": [
    {
     "data": {
      "text/plain": [
       "array(['0', '0', '0', '0', '0', '0', '1', '0', '1', '0', '0', '0', '1',\n",
       "       '0', '1', '1', '0', '0', '0', '1', '0', '0', '1', '0', '1', '0',\n",
       "       '1', '0', '0', '0', '0', '0', '0', '1', '0', '0', '1', '1', '0',\n",
       "       '0', '0', '0', '0', '1', '1', '0', '0', '0', '1', '0', '0', '0',\n",
       "       '1', '1', '0', '0', '0', '0', '0', '1', '0', '0', '0', '1', '1',\n",
       "       '1', '1', '0', '0', '1', '1', '0', '0', '0', '1', '1', '0', '1',\n",
       "       '0', '1', '0', '1', '0', '0', '0', '0', '1', '1', '1', '0', '1',\n",
       "       '0', '1', '0', '0', '0', '1', '0', '1', '0', '1', '0', '0', '0',\n",
       "       '1', '0', '0', '0', '0', '0', '0', '1', '1', '1', '1', '0', '0',\n",
       "       '1', '0', '1', '1', '0', '1', '0', '0', '1', '0', '1', '0', '0',\n",
       "       '0', '0', '1', '0', '0', '0', '0', '0', '1', '0', '1', '1', '1',\n",
       "       '0', '0', '0', '0', '0', '0', '0', '1', '0', '0', '0', '0', '0',\n",
       "       '1', '1', '0', '0', '1', '0', '1', '0', '0', '1', '0', '0', '1',\n",
       "       '1', '0', '0', '0', '0', '0', '1', '1', '0', '1', '1', '0', '0',\n",
       "       '1', '0', '1', '0', '1', '0', '1', '0', '0', '0', '0', '0', '0',\n",
       "       '0', '1', '1', '0', '1', '1', '0', '1', '1', '0', '0', '1', '0',\n",
       "       '1', '0', '0', '0', '0', '1', '0', '0', '1', '1', '1', '0', '1',\n",
       "       '0', '1', '0', '1', '1', '0', '1', '0', '0', '0', '1', '0', '0',\n",
       "       '0', '0', '0', '0', '1', '1', '1', '1', '1', '0', '0', '0', '1',\n",
       "       '0', '1', '1', '1', '0', '1', '0', '0', '0', '0', '0', '1', '0',\n",
       "       '0', '0', '1', '1', '0', '0', '0', '0', '1', '0', '0', '0', '1',\n",
       "       '1', '0', '1', '0', '0', '0', '0', '1', '0', '1', '1', '1', '0',\n",
       "       '0', '0', '0', '0', '0', '1', '0', '0', '0', '0', '1', '0', '0',\n",
       "       '0', '0', '0', '0', '0', '1', '1', '1', '0', '0', '0', '0', '0',\n",
       "       '0', '1', '1', '1', '1', '0', '0', '0', '0', '0', '0', '0', '1',\n",
       "       '0', '1', '0', '0', '0', '1', '0', '0', '1', '0', '0', '0', '0',\n",
       "       '0', '0', '0', '0', '0', '1', '0', '1', '0', '1', '0', '1', '1',\n",
       "       '0', '0', '0', '1', '0', '1', '0', '0', '0', '0', '1', '1', '0',\n",
       "       '1', '1', '0', '1', '1', '0', '0', '1', '0', '0', '1', '1', '0',\n",
       "       '0', '0', '0', '0', '0', '1', '1', '0', '1', '0', '0', '0', '0',\n",
       "       '0', '1', '0', '0', '0', '1', '0', '1', '0', '0', '1', '0', '1',\n",
       "       '0', '0', '0', '0', '1', '1', '1', '1', '1', '0', '0', '1', '0',\n",
       "       '0', '0'], dtype=object)"
      ]
     },
     "execution_count": 17,
     "metadata": {},
     "output_type": "execute_result"
    }
   ],
   "source": [
    "prediction_test_data"
   ]
  },
  {
   "cell_type": "code",
   "execution_count": null,
   "metadata": {},
   "outputs": [],
   "source": []
  }
 ],
 "metadata": {
  "kernelspec": {
   "display_name": "Python 3",
   "language": "python",
   "name": "python3"
  },
  "language_info": {
   "codemirror_mode": {
    "name": "ipython",
    "version": 3
   },
   "file_extension": ".py",
   "mimetype": "text/x-python",
   "name": "python",
   "nbconvert_exporter": "python",
   "pygments_lexer": "ipython3",
   "version": "3.6.4"
  }
 },
 "nbformat": 4,
 "nbformat_minor": 2
}
