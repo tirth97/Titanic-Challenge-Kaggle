{
 "cells": [
  {
   "cell_type": "code",
   "execution_count": 62,
   "metadata": {
    "collapsed": true
   },
   "outputs": [],
   "source": [
    "import string\n",
    "import numpy as np\n",
    "import csv\n",
    "import pandas as pd\n"
   ]
  },
  {
   "cell_type": "code",
   "execution_count": null,
   "metadata": {
    "collapsed": true
   },
   "outputs": [],
   "source": []
  },
  {
   "cell_type": "code",
   "execution_count": 63,
   "metadata": {
    "collapsed": true
   },
   "outputs": [],
   "source": [
    "def substrings_in_string(big_string, substrings):\n",
    "    for substring in substrings:\n",
    "        if substring in big_string:\n",
    "            return substring\n",
    "    #print(substring)\n",
    "    return np.nan"
   ]
  },
  {
   "cell_type": "code",
   "execution_count": null,
   "metadata": {
    "collapsed": true
   },
   "outputs": [],
   "source": []
  },
  {
   "cell_type": "code",
   "execution_count": 64,
   "metadata": {
    "collapsed": true
   },
   "outputs": [],
   "source": [
    "def get_data_from_file(file_location):\n",
    "    file_content=[]\n",
    "\n",
    "    with open(file_location) as csvfile:\n",
    "        file = csv.reader(csvfile)\n",
    "        for eachline in file:\n",
    "            file_content.append(eachline)\n",
    "    \n",
    "    df=pd.DataFrame(file_content)\n",
    "    new_header = df.iloc[0]\n",
    "    df = df[1:]\n",
    "    df.columns = new_header\n",
    "    return df"
   ]
  },
  {
   "cell_type": "code",
   "execution_count": 65,
   "metadata": {
    "collapsed": true
   },
   "outputs": [],
   "source": [
    " #Data Engineering\n",
    "\n",
    "def process_train_data(df):\n",
    "    \n",
    "    ##Cherbourg 1\n",
    "    ##Queenstown 2\n",
    "    ##Southampton 3\n",
    "\n",
    "    df['Embarked'] = df['Embarked'].replace(to_replace = \"C\",value = 1)\n",
    "    df['Embarked'] = df['Embarked'].replace(to_replace = \"Q\",value = 2)\n",
    "    df['Embarked'] = df['Embarked'].replace(to_replace = \"S\",value = 3)\n",
    "    \n",
    "    \n",
    "    df['Fare'] = pd.to_numeric(df['Fare'])\n",
    "    df['Age'] = pd.to_numeric(df['Age'])\n",
    "    \n",
    "    df['FamilySize'] = pd.to_numeric(df['SibSp'])+pd.to_numeric(df['Parch'])\n",
    "    \n",
    "    cabin_list = ['A', 'B', 'C', 'D', 'E', 'F', 'T', 'G', 'Unknown']\n",
    "    df['Deck']=df['Cabin'].map(lambda x: substrings_in_string(x, cabin_list))\n",
    "    \n",
    "    df = df.replace(to_replace = np.NaN, value=0)\n",
    "    df = df.replace(to_replace = '',value = 0)\n",
    "    df = df.replace(to_replace = \"male\", value = 1)\n",
    "    df = df.replace(to_replace = \"female\",value = 2)\n",
    "    \n",
    "    new_df = df[['PassengerId','Pclass','Sex','Age','Embarked','Fare','FamilySize','Survived']]\n",
    "    \n",
    "    return new_df"
   ]
  },
  {
   "cell_type": "code",
   "execution_count": 66,
   "metadata": {
    "collapsed": true
   },
   "outputs": [],
   "source": [
    " #Data Engineering\n",
    "\n",
    "def process_test_data(df):\n",
    "    \n",
    "    ##Cherbourg 1\n",
    "    ##Queenstown 2\n",
    "    ##Southampton 3\n",
    "\n",
    "    df['Embarked'] = df['Embarked'].replace(to_replace = \"C\",value = 1)\n",
    "    df['Embarked'] = df['Embarked'].replace(to_replace = \"Q\",value = 2)\n",
    "    df['Embarked'] = df['Embarked'].replace(to_replace = \"S\",value = 3)\n",
    "    \n",
    "    \n",
    "    df['Fare'] = pd.to_numeric(df['Fare'])\n",
    "    df['Age'] = pd.to_numeric(df['Age'])\n",
    "    \n",
    "    df['FamilySize'] = pd.to_numeric(df['SibSp'])+pd.to_numeric(df['Parch'])\n",
    "    \n",
    "    cabin_list = ['A', 'B', 'C', 'D', 'E', 'F', 'T', 'G', 'Unknown']\n",
    "    df['Deck']=df['Cabin'].map(lambda x: substrings_in_string(x, cabin_list))\n",
    "    \n",
    "    df = df.replace(to_replace = np.NaN, value=0)\n",
    "    df = df.replace(to_replace = '',value = 0)\n",
    "    df = df.replace(to_replace = \"male\", value = 1)\n",
    "    df = df.replace(to_replace = \"female\",value = 2)\n",
    "    \n",
    "    new_df = df[['PassengerId','Pclass','Sex','Age','Embarked','Fare','FamilySize']]\n",
    "    \n",
    "    return new_df"
   ]
  },
  {
   "cell_type": "code",
   "execution_count": null,
   "metadata": {},
   "outputs": [],
   "source": []
  },
  {
   "cell_type": "code",
   "execution_count": 67,
   "metadata": {},
   "outputs": [],
   "source": [
    "def write_output(prediction,file_name):\n",
    "    with open(file_name,'w', newline='') as my_csv:\n",
    "        csvWriter = csv.writer(my_csv,delimiter=',')\n",
    "        csvWriter.writerows(prediction)"
   ]
  },
  {
   "cell_type": "code",
   "execution_count": null,
   "metadata": {
    "collapsed": true
   },
   "outputs": [],
   "source": []
  },
  {
   "cell_type": "code",
   "execution_count": 68,
   "metadata": {
    "collapsed": true
   },
   "outputs": [],
   "source": [
    "new_df = get_data_from_file('./train.csv')\n",
    "new_df = process_train_data(new_df)"
   ]
  },
  {
   "cell_type": "code",
   "execution_count": 69,
   "metadata": {
    "collapsed": true
   },
   "outputs": [],
   "source": [
    "data = new_df[['PassengerId','Pclass','Sex','Age','Embarked','Fare','FamilySize']]"
   ]
  },
  {
   "cell_type": "code",
   "execution_count": 70,
   "metadata": {
    "collapsed": true
   },
   "outputs": [],
   "source": [
    "prediction = new_df[['Survived']]"
   ]
  },
  {
   "cell_type": "code",
   "execution_count": null,
   "metadata": {
    "collapsed": true
   },
   "outputs": [],
   "source": []
  },
  {
   "cell_type": "code",
   "execution_count": 71,
   "metadata": {
    "collapsed": true
   },
   "outputs": [],
   "source": [
    "from sklearn import svm\n",
    "\n",
    "clf = svm.SVC(kernel='linear',C=0.01)"
   ]
  },
  {
   "cell_type": "code",
   "execution_count": 72,
   "metadata": {},
   "outputs": [
    {
     "name": "stderr",
     "output_type": "stream",
     "text": [
      "C:\\ProgramData\\Anaconda3\\lib\\site-packages\\sklearn\\utils\\validation.py:547: DataConversionWarning: A column-vector y was passed when a 1d array was expected. Please change the shape of y to (n_samples, ), for example using ravel().\n",
      "  y = column_or_1d(y, warn=True)\n"
     ]
    },
    {
     "data": {
      "text/plain": [
       "SVC(C=0.01, cache_size=200, class_weight=None, coef0=0.0,\n",
       "  decision_function_shape='ovr', degree=3, gamma='auto', kernel='linear',\n",
       "  max_iter=-1, probability=False, random_state=None, shrinking=True,\n",
       "  tol=0.001, verbose=False)"
      ]
     },
     "execution_count": 72,
     "metadata": {},
     "output_type": "execute_result"
    }
   ],
   "source": [
    "clf.fit(data,prediction)"
   ]
  },
  {
   "cell_type": "code",
   "execution_count": null,
   "metadata": {
    "collapsed": true
   },
   "outputs": [],
   "source": []
  },
  {
   "cell_type": "code",
   "execution_count": 73,
   "metadata": {},
   "outputs": [
    {
     "name": "stderr",
     "output_type": "stream",
     "text": [
      "C:\\ProgramData\\Anaconda3\\lib\\site-packages\\ipykernel_launcher.py:4: DataConversionWarning: A column-vector y was passed when a 1d array was expected. Please change the shape of y to (n_samples,), for example using ravel().\n",
      "  after removing the cwd from sys.path.\n"
     ]
    },
    {
     "data": {
      "text/plain": [
       "RandomForestClassifier(bootstrap=True, class_weight=None, criterion='gini',\n",
       "            max_depth=7, max_features='auto', max_leaf_nodes=None,\n",
       "            min_impurity_decrease=0.0, min_impurity_split=None,\n",
       "            min_samples_leaf=1, min_samples_split=2,\n",
       "            min_weight_fraction_leaf=0.0, n_estimators=10, n_jobs=1,\n",
       "            oob_score=False, random_state=2, verbose=0, warm_start=False)"
      ]
     },
     "execution_count": 73,
     "metadata": {},
     "output_type": "execute_result"
    }
   ],
   "source": [
    "from sklearn.ensemble import RandomForestClassifier\n",
    "\n",
    "clf_rf = RandomForestClassifier(max_depth=7, random_state=2)\n",
    "clf_rf.fit(data,prediction)"
   ]
  },
  {
   "cell_type": "code",
   "execution_count": null,
   "metadata": {
    "collapsed": true
   },
   "outputs": [],
   "source": []
  },
  {
   "cell_type": "code",
   "execution_count": 74,
   "metadata": {},
   "outputs": [
    {
     "name": "stderr",
     "output_type": "stream",
     "text": [
      "C:\\ProgramData\\Anaconda3\\lib\\site-packages\\sklearn\\utils\\validation.py:547: DataConversionWarning: A column-vector y was passed when a 1d array was expected. Please change the shape of y to (n_samples, ), for example using ravel().\n",
      "  y = column_or_1d(y, warn=True)\n"
     ]
    },
    {
     "name": "stdout",
     "output_type": "stream",
     "text": [
      "0.837988826816\n"
     ]
    }
   ],
   "source": [
    "\n",
    "def train_data_test_SVC(data):\n",
    "    data_train = data[0:int(0.8*len(data))]\n",
    "    prediction_train = prediction[0:int(0.8*len(data))]\n",
    "    data_test = data[int(0.8*len(data)):]\n",
    "    prediction_test = prediction[int(0.8*len(data)):]\n",
    "    \n",
    "    from sklearn import svm\n",
    "\n",
    "    clf = svm.SVC(kernel='linear',C=0.01)\n",
    "    clf.fit(data_train,prediction_train)\n",
    "    \n",
    "    pred_sur = clf.predict(data_test)\n",
    "    \n",
    "    from sklearn.metrics import accuracy_score\n",
    "\n",
    "    print(accuracy_score(pred_sur,prediction_test))\n",
    "    \n",
    "\n",
    "train_data_test_SVC(data)"
   ]
  },
  {
   "cell_type": "code",
   "execution_count": null,
   "metadata": {
    "collapsed": true
   },
   "outputs": [],
   "source": []
  },
  {
   "cell_type": "code",
   "execution_count": 75,
   "metadata": {},
   "outputs": [
    {
     "name": "stdout",
     "output_type": "stream",
     "text": [
      "0.860335195531\n"
     ]
    },
    {
     "name": "stderr",
     "output_type": "stream",
     "text": [
      "C:\\ProgramData\\Anaconda3\\lib\\site-packages\\ipykernel_launcher.py:10: DataConversionWarning: A column-vector y was passed when a 1d array was expected. Please change the shape of y to (n_samples,), for example using ravel().\n",
      "  # Remove the CWD from sys.path while we load stuff.\n"
     ]
    }
   ],
   "source": [
    "def train_data_test_RF(data):\n",
    "    data_train = data[0:int(0.8*len(data))]\n",
    "    prediction_train = prediction[0:int(0.8*len(data))]\n",
    "    data_test = data[int(0.8*len(data)):]\n",
    "    prediction_test = prediction[int(0.8*len(data)):]\n",
    "    \n",
    "    from sklearn.ensemble import RandomForestClassifier\n",
    "\n",
    "    clf_rf = RandomForestClassifier(max_depth=7, random_state=2)\n",
    "    clf_rf.fit(data_train,prediction_train)\n",
    "    \n",
    "    pred_sur = clf_rf.predict(data_test)\n",
    "    \n",
    "    from sklearn.metrics import accuracy_score\n",
    "\n",
    "    print(accuracy_score(pred_sur,prediction_test))\n",
    "    \n",
    "\n",
    "train_data_test_RF(data)"
   ]
  },
  {
   "cell_type": "code",
   "execution_count": null,
   "metadata": {
    "collapsed": true
   },
   "outputs": [],
   "source": []
  },
  {
   "cell_type": "code",
   "execution_count": 76,
   "metadata": {
    "collapsed": true
   },
   "outputs": [],
   "source": [
    "original_test_data = get_data_from_file('./test.csv')\n",
    "original_test_data = process_test_data(original_test_data)"
   ]
  },
  {
   "cell_type": "code",
   "execution_count": 77,
   "metadata": {},
   "outputs": [],
   "source": [
    "##Linear SVM\n",
    "prediction_test_data_svc = clf.predict(original_test_data)"
   ]
  },
  {
   "cell_type": "code",
   "execution_count": 78,
   "metadata": {},
   "outputs": [],
   "source": [
    "##Linear SVM\n",
    "\n",
    "id_num=0\n",
    "prediction=[]\n",
    "titles=[]\n",
    "titles.append(\"PassengerId\")\n",
    "titles.append(\"Survived\")\n",
    "prediction.append(titles)\n",
    "ids = original_test_data['PassengerId']\n",
    "\n",
    "for x in prediction_test_data_svc:\n",
    "    id_num+=1\n",
    "    id_prediction=[]\n",
    "    id_prediction.append(int(ids[id_num]))\n",
    "    id_prediction.append(int(x))\n",
    "    prediction.append(id_prediction)\n",
    "    \n",
    "write_output(prediction,\"output_svm_linear.csv\")"
   ]
  },
  {
   "cell_type": "code",
   "execution_count": null,
   "metadata": {},
   "outputs": [],
   "source": []
  },
  {
   "cell_type": "code",
   "execution_count": 79,
   "metadata": {},
   "outputs": [],
   "source": [
    "prediction_test_data_rf = clf_rf.predict(original_test_data)"
   ]
  },
  {
   "cell_type": "code",
   "execution_count": null,
   "metadata": {},
   "outputs": [],
   "source": []
  },
  {
   "cell_type": "code",
   "execution_count": 80,
   "metadata": {},
   "outputs": [],
   "source": [
    "##Random Forest\n",
    "\n",
    "id_num=0\n",
    "prediction=[]\n",
    "titles=[]\n",
    "titles.append(\"PassengerId\")\n",
    "titles.append(\"Survived\")\n",
    "prediction.append(titles)\n",
    "ids = original_test_data['PassengerId']\n",
    "\n",
    "for x in prediction_test_data_rf:\n",
    "    id_num+=1\n",
    "    id_prediction=[]\n",
    "    id_prediction.append(int(ids[id_num]))\n",
    "    id_prediction.append(int(x))\n",
    "    prediction.append(id_prediction)\n",
    "    \n",
    "write_output(prediction,\"output_random_forest.csv\")"
   ]
  }
 ],
 "metadata": {
  "kernelspec": {
   "display_name": "Python 3",
   "language": "python",
   "name": "python3"
  },
  "language_info": {
   "codemirror_mode": {
    "name": "ipython",
    "version": 3
   },
   "file_extension": ".py",
   "mimetype": "text/x-python",
   "name": "python",
   "nbconvert_exporter": "python",
   "pygments_lexer": "ipython3",
   "version": "3.6.2"
  }
 },
 "nbformat": 4,
 "nbformat_minor": 2
}
